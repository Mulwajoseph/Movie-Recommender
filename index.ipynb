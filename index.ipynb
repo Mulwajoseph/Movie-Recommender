{
 "cells": [
  {
   "cell_type": "markdown",
   "metadata": {},
   "source": [
    "Movie Recommender\n",
    "\n",
    "In this project we will be building a Movie Recommender system using collaborative filtering that will predict a movie based on your interactions\n"
   ]
  },
  {
   "cell_type": "markdown",
   "metadata": {},
   "source": [
    "## Importing Packages "
   ]
  },
  {
   "cell_type": "code",
   "execution_count": 46,
   "metadata": {},
   "outputs": [],
   "source": [
    "\n",
    "import pandas as pd\n",
    "import numpy as np\n",
    "import matplotlib.pyplot as plt\n",
    "import seaborn as sns\n",
    "\n",
    "from surprise.model_selection import train_test_split\n",
    "from sklearn.metrics.pairwise import cosine_similarity\n",
    "from surprise.model_selection import GridSearchCV\n",
    "from surprise import accuracy\n",
    "from sklearn.preprocessing import MinMaxScaler\n",
    "from collections import Counter\n",
    "from surprise.model_selection import cross_validate\n",
    "\n",
    "from surprise.prediction_algorithms import SVD, KNNWithMeans, KNNBasic, KNNBaseline"
   ]
  },
  {
   "cell_type": "code",
   "execution_count": 26,
   "metadata": {},
   "outputs": [],
   "source": [
    "#Loading dataset\n",
    "movies = pd.read_csv(\"ml-latest-small/ml-latest-small/movies.csv\")\n",
    "ratings =  pd.read_csv(\"ml-latest-small/ml-latest-small/ratings.csv\")\n",
    "\n"
   ]
  },
  {
   "cell_type": "code",
   "execution_count": 27,
   "metadata": {},
   "outputs": [
    {
     "data": {
      "text/html": [
       "<div>\n",
       "<style scoped>\n",
       "    .dataframe tbody tr th:only-of-type {\n",
       "        vertical-align: middle;\n",
       "    }\n",
       "\n",
       "    .dataframe tbody tr th {\n",
       "        vertical-align: top;\n",
       "    }\n",
       "\n",
       "    .dataframe thead th {\n",
       "        text-align: right;\n",
       "    }\n",
       "</style>\n",
       "<table border=\"1\" class=\"dataframe\">\n",
       "  <thead>\n",
       "    <tr style=\"text-align: right;\">\n",
       "      <th></th>\n",
       "      <th>movieId</th>\n",
       "      <th>title</th>\n",
       "      <th>genres</th>\n",
       "    </tr>\n",
       "  </thead>\n",
       "  <tbody>\n",
       "    <tr>\n",
       "      <th>0</th>\n",
       "      <td>1</td>\n",
       "      <td>Toy Story (1995)</td>\n",
       "      <td>Adventure|Animation|Children|Comedy|Fantasy</td>\n",
       "    </tr>\n",
       "    <tr>\n",
       "      <th>1</th>\n",
       "      <td>2</td>\n",
       "      <td>Jumanji (1995)</td>\n",
       "      <td>Adventure|Children|Fantasy</td>\n",
       "    </tr>\n",
       "    <tr>\n",
       "      <th>2</th>\n",
       "      <td>3</td>\n",
       "      <td>Grumpier Old Men (1995)</td>\n",
       "      <td>Comedy|Romance</td>\n",
       "    </tr>\n",
       "    <tr>\n",
       "      <th>3</th>\n",
       "      <td>4</td>\n",
       "      <td>Waiting to Exhale (1995)</td>\n",
       "      <td>Comedy|Drama|Romance</td>\n",
       "    </tr>\n",
       "    <tr>\n",
       "      <th>4</th>\n",
       "      <td>5</td>\n",
       "      <td>Father of the Bride Part II (1995)</td>\n",
       "      <td>Comedy</td>\n",
       "    </tr>\n",
       "  </tbody>\n",
       "</table>\n",
       "</div>"
      ],
      "text/plain": [
       "   movieId                               title  \\\n",
       "0        1                    Toy Story (1995)   \n",
       "1        2                      Jumanji (1995)   \n",
       "2        3             Grumpier Old Men (1995)   \n",
       "3        4            Waiting to Exhale (1995)   \n",
       "4        5  Father of the Bride Part II (1995)   \n",
       "\n",
       "                                        genres  \n",
       "0  Adventure|Animation|Children|Comedy|Fantasy  \n",
       "1                   Adventure|Children|Fantasy  \n",
       "2                               Comedy|Romance  \n",
       "3                         Comedy|Drama|Romance  \n",
       "4                                       Comedy  "
      ]
     },
     "execution_count": 27,
     "metadata": {},
     "output_type": "execute_result"
    }
   ],
   "source": [
    "movies.head()"
   ]
  },
  {
   "cell_type": "code",
   "execution_count": 28,
   "metadata": {},
   "outputs": [
    {
     "name": "stdout",
     "output_type": "stream",
     "text": [
      "Total ratings100836\n",
      "Total movies9724\n",
      "Total users610\n"
     ]
    }
   ],
   "source": [
    "#Number of ratings, movies and users we have in our data set \n",
    "total_ratings =len(ratings)\n",
    "total_movies=ratings['movieId'].nunique()\n",
    "total_users =ratings['userId'].nunique()\n",
    "\n",
    "print(f\"Total ratings{total_ratings}\")\n",
    "print(f\"Total movies{total_movies}\")\n",
    "print(f\"Total users{total_users}\")\n"
   ]
  },
  {
   "cell_type": "code",
   "execution_count": 29,
   "metadata": {},
   "outputs": [
    {
     "name": "stdout",
     "output_type": "stream",
     "text": [
      "nulls in movie dataset movieId    0\n",
      "title      0\n",
      "genres     0\n",
      "dtype: int64\n",
      "nulls in ratings dataset userId       0\n",
      "movieId      0\n",
      "rating       0\n",
      "timestamp    0\n",
      "dtype: int64\n"
     ]
    }
   ],
   "source": [
    "nullmovies = movies.isnull().sum()\n",
    "nullratings = ratings.isnull().sum()\n",
    "print(f\"nulls in movie dataset {nullmovies}\")\n",
    "print(f\"nulls in ratings dataset {nullratings}\")"
   ]
  },
  {
   "cell_type": "markdown",
   "metadata": {},
   "source": [
    "### EDA\n"
   ]
  },
  {
   "cell_type": "code",
   "execution_count": 30,
   "metadata": {},
   "outputs": [
    {
     "data": {
      "image/png": "[encoded data removed]",
      "text/plain": [
       "<Figure size 640x480 with 1 Axes>"
      ]
     },
     "metadata": {},
     "output_type": "display_data"
    }
   ],
   "source": [
    "sns.countplot(x='rating',data=ratings)\n",
    "plt.title('Distribution')\n",
    "plt.show()"
   ]
  },
  {
   "cell_type": "code",
   "execution_count": 31,
   "metadata": {},
   "outputs": [
    {
     "name": "stdout",
     "output_type": "stream",
     "text": [
      "title\n",
      "Forrest Gump (1994)                 329\n",
      "Shawshank Redemption, The (1994)    317\n",
      "Pulp Fiction (1994)                 307\n",
      "Silence of the Lambs, The (1991)    279\n",
      "Matrix, The (1999)                  278\n",
      "Name: count, dtype: int64\n"
     ]
    }
   ],
   "source": [
    "#The top 5 rated movies\n",
    "movie_ratings = ratings.merge(movies, on='movieId')\n",
    "top_movies = movie_ratings['title'].value_counts().nlargest(5)\n",
    "print(top_movies)"
   ]
  },
  {
   "cell_type": "code",
   "execution_count": 32,
   "metadata": {},
   "outputs": [
    {
     "name": "stdout",
     "output_type": "stream",
     "text": [
      "title\n",
      "Julia (2014)                  1\n",
      "You Only Live Once (1937)     1\n",
      "Music Box (1989)              1\n",
      "Getaway (2013)                1\n",
      "Ricki and the Flash (2015)    1\n",
      "Name: count, dtype: int64\n"
     ]
    }
   ],
   "source": [
    "#The last 5 rated movies\n",
    "lowest_movies = movie_ratings['title'].value_counts().nsmallest(5)\n",
    "print(lowest_movies)"
   ]
  },
  {
   "cell_type": "code",
   "execution_count": 33,
   "metadata": {},
   "outputs": [
    {
     "name": "stdout",
     "output_type": "stream",
     "text": [
      "No of genres20\n"
     ]
    }
   ],
   "source": [
    "#Top 10 genre \n",
    "#Split the genres to a list\n",
    "movies['genres'] =  movies['genres'].apply(lambda x: x.split ('|'))\n",
    "\n",
    "total_genre = Counter(g for genres in movies ['genres'] for g in genres)\n",
    "\n",
    "print(f'No of genres{len(total_genre)}')"
   ]
  },
  {
   "cell_type": "code",
   "execution_count": 34,
   "metadata": {},
   "outputs": [
    {
     "name": "stderr",
     "output_type": "stream",
     "text": [
      "C:\\Users\\Joseph\\AppData\\Local\\Temp\\ipykernel_4260\\2386159201.py:6: FutureWarning: \n",
      "\n",
      "Passing `palette` without assigning `hue` is deprecated and will be removed in v0.14.0. Assign the `x` variable to `hue` and set `legend=False` for the same effect.\n",
      "\n",
      "  sns.barplot(x='genre', y='count', data=top_genre_df, palette=\"viridis\")\n"
     ]
    },
    {
     "data": {
      "image/png": "[encoded data removed]",
      "text/plain": [
       "<Figure size 1200x600 with 1 Axes>"
      ]
     },
     "metadata": {},
     "output_type": "display_data"
    }
   ],
   "source": [
    "#Top 10 genre visualization\n",
    "#Change  to dataframe \n",
    "top_genre_df = pd.DataFrame([total_genre]).T.reset_index()\n",
    "top_genre_df.columns = ['genre','count']\n",
    "plt.figure(figsize=(12, 6))\n",
    "sns.barplot(x='genre', y='count', data=top_genre_df, palette=\"viridis\")\n",
    "plt.xlabel(\"Genre\")\n",
    "plt.ylabel(\"Count\")\n",
    "plt.title(\"Top 10 Most Common Movie Genres\")\n",
    "plt.xticks(rotation=45)  \n",
    "plt.show()"
   ]
  },
  {
   "cell_type": "code",
   "execution_count": null,
   "metadata": {},
   "outputs": [],
   "source": [
    "movies['rating'].value_counts()"
   ]
  },
  {
   "cell_type": "markdown",
   "metadata": {},
   "source": [
    "### Data Processing"
   ]
  },
  {
   "cell_type": "code",
   "execution_count": 35,
   "metadata": {},
   "outputs": [
    {
     "data": {
      "text/plain": [
       "(610, 9724)"
      ]
     },
     "execution_count": 35,
     "metadata": {},
     "output_type": "execute_result"
    }
   ],
   "source": [
    "# 9724 number of users hence Item based filtering model \n",
    "#Create User-Item Matrix: \n",
    "# Transform the data into a user-item matrix where rows represent users and columns represent movies.\n",
    "user_item_matrix = ratings.pivot_table(index='userId', columns='movieId', values='rating')\n",
    "user_item_matrix.shape\n"
   ]
  },
  {
   "cell_type": "code",
   "execution_count": 36,
   "metadata": {},
   "outputs": [],
   "source": [
    "#Normalization\n",
    "scaler = MinMaxScaler()\n",
    "user_item_matrix_scaled = scaler.fit_transform(user_item_matrix)\n",
    "user_item_matrix_scaled = pd.DataFrame(user_item_matrix_scaled, index=user_item_matrix.index, columns=user_item_matrix.columns)"
   ]
  },
  {
   "cell_type": "markdown",
   "metadata": {},
   "source": [
    "### Collaborative filtering"
   ]
  },
  {
   "cell_type": "code",
   "execution_count": 45,
   "metadata": {},
   "outputs": [],
   "source": [
    "#splitting dataset\n",
    "train_set,test_set = train_test_split(data, test_size =0.2, random_state=42)"
   ]
  },
  {
   "cell_type": "code",
   "execution_count": 44,
   "metadata": {},
   "outputs": [],
   "source": [
    "#Grid search with svd\n",
    "param_grid = {\n",
    "    'n_factors': [50, 100, 200],\n",
    "    'lr_all': [0.002, 0.005, 0.01],\n",
    "    'reg_all': [0.02, 0.04, 0.06]\n",
    "}\n",
    "\n",
    "grid_search = GridSearchCV(SVD, param_grid, measures=['rmse', 'MAE'], cv=5)\n",
    "grid_search.fit(data)\n",
    "\n",
    "\n",
    "print(grid_search.best_score['rmse'])\n",
    "\n",
    "print(grid_search.best_params['rmse'])"
   ]
  },
  {
   "cell_type": "code",
   "execution_count": 47,
   "metadata": {},
   "outputs": [
    {
     "name": "stdout",
     "output_type": "stream",
     "text": [
      "Computing the cosine similarity matrix...\n",
      "Done computing similarity matrix.\n",
      "RMSE: 0.9823\n",
      "KNN RMSE: 0.9822558142846856\n"
     ]
    }
   ],
   "source": [
    "#KNN basic algorithm \n",
    "knn_model = KNNBasic(sim_options={'name': 'cosine', 'user_based': True})\n",
    "knn_model.fit(train_set)\n",
    "knn_predictions = knn_model.test(test_set)\n",
    "knn_rmse = accuracy.rmse(knn_predictions)\n",
    "print(f\"KNN RMSE: {knn_rmse}\")"
   ]
  },
  {
   "cell_type": "code",
   "execution_count": 48,
   "metadata": {},
   "outputs": [
    {
     "name": "stdout",
     "output_type": "stream",
     "text": [
      "RMSE: 0.8775\n",
      "SVD RMSE: 0.8774680781839199\n"
     ]
    }
   ],
   "source": [
    "#Singular Value Decomposition(SVD) factorization\n",
    "svd_model = SVD(n_factors=50, random_state=42)\n",
    "svd_model.fit(train_set)\n",
    "svd_predictions = svd_model.test(test_set)\n",
    "svd_rmse = accuracy.rmse(svd_predictions)\n",
    "print(f\"SVD RMSE: {svd_rmse}\")"
   ]
  },
  {
   "cell_type": "code",
   "execution_count": 49,
   "metadata": {},
   "outputs": [
    {
     "name": "stdout",
     "output_type": "stream",
     "text": [
      "SVD performs better than KNN.\n"
     ]
    }
   ],
   "source": [
    "#comparing KNN and SVD to determine whch has better performance\n",
    "if knn_rmse < svd_rmse:\n",
    "    print(\"KNN performs better than SVD.\")\n",
    "else:\n",
    "    print(\"SVD performs better than KNN.\")"
   ]
  },
  {
   "cell_type": "markdown",
   "metadata": {},
   "source": [
    "### Training model on our datase"
   ]
  },
  {
   "cell_type": "code",
   "execution_count": 51,
   "metadata": {},
   "outputs": [
    {
     "data": {
      "text/plain": [
       "<surprise.prediction_algorithms.matrix_factorization.SVD at 0x1b301a159a0>"
      ]
     },
     "execution_count": 51,
     "metadata": {},
     "output_type": "execute_result"
    }
   ],
   "source": [
    "#Preparing our data for Surprise Library\n",
    "reader = Reader(rating_scale=(0.5, 5.0))\n",
    "data = Dataset.load_from_df(ratings[['userId', 'movieId', 'rating']], reader)\n",
    "\n",
    "#Training\n",
    "trainset = data.build_full_trainset()\n",
    "svd_model = SVD(n_factors=50, random_state=42)\n",
    "svd_model.fit(trainset)\n"
   ]
  },
  {
   "cell_type": "markdown",
   "metadata": {},
   "source": [
    "##### Prediction"
   ]
  },
  {
   "cell_type": "code",
   "execution_count": 60,
   "metadata": {},
   "outputs": [],
   "source": [
    "#Function to get Movie ID from Movie Name \n",
    "def get_movie_id(movie_name):\n",
    "    movie = movies[movies['title'].str.contains(movie_name, case=False, na=False)]\n",
    "    if not movie.empty:\n",
    "        return movie.iloc[0]['movieId']\n",
    "    else:\n",
    "        return None"
   ]
  },
  {
   "cell_type": "code",
   "execution_count": 72,
   "metadata": {},
   "outputs": [
    {
     "ename": "SyntaxError",
     "evalue": "invalid syntax (1638808449.py, line 38)",
     "output_type": "error",
     "traceback": [
      "\u001b[1;36m  Cell \u001b[1;32mIn[72], line 38\u001b[1;36m\u001b[0m\n\u001b[1;33m    print(f\"{movie_title} (Predicted Rating: {rating:.2f})\")def recommend_movies():\u001b[0m\n\u001b[1;37m                                                            ^\u001b[0m\n\u001b[1;31mSyntaxError\u001b[0m\u001b[1;31m:\u001b[0m invalid syntax\n"
     ]
    }
   ],
   "source": [
    "#Function to get top-N recommendations for a specific movie ID\n",
    "#Here I find the User ID of thse that rated this top-n movies and predict ratings of this movies from\n",
    "#  highest to lowest and getting the movie titles and displaying 10 recommendations \n",
    "def get_recommendations_by_movie_id(movie_id, top_n=10):\n",
    "    high_ratings = ratings[(ratings['movieId'] == movie_id) & (ratings['rating'] >= 4.0)]\n",
    "    if high_ratings.empty:\n",
    "        print(f\"No users have rated this movie highly.\")\n",
    "        return\n",
    "    user_ids = high_ratings['userId'].unique()\n",
    "\n",
    "    all_movie_ids = ratings['movieId'].unique()\n",
    "    predictions = []\n",
    "    for user_id in user_ids:\n",
    "        for movie_id in all_movie_ids:\n",
    "            predicted_rating = svd_model.predict(user_id, movie_id).est\n",
    "            predictions.append((movie_id, predicted_rating))\n",
    "\n",
    "    predictions.sort(key=lambda x: x[1], reverse=True)\n",
    "\n",
    "    unique_predictions = []\n",
    "    seen_movies = set()\n",
    "    for movie_id, predicted_rating in predictions:\n",
    "        if movie_id not in seen_movies and movie_id != movie_id:\n",
    "            unique_predictions.append((movie_id, predicted_rating))\n",
    "            seen_movies.add(movie_id)\n",
    "            if len(unique_predictions) >= top_n:\n",
    "                break\n",
    "\n",
    "    # Get movie titles for the top recommendations\n",
    "    recommended_movies = []\n",
    "    for movie_id, predicted_rating in unique_predictions:\n",
    "        movie_title = movies[movies['movieId'] == movie_id]['title'].values[0]\n",
    "        recommended_movies.append((movie_title, predicted_rating))\n",
    "\n",
    "    # Display recommendations\n",
    "    print(f\"Top {top_n} recommendations for users who liked this movie:\")\n",
    "    for movie_title, rating in recommended_movies:\n",
    "        print(f\"{movie_title} (Predicted Rating: {rating:.2f})\")def recommend_movies():\n",
    "    user_input = input(\"Enter a movie name or ID to get recommendations: \")\n",
    "    if user_input.isdigit():\n",
    "        movie_id = int(user_input)\n",
    "        if movie_id in movies['movieId'].values:\n",
    "            get_recommendations_by_movie_id(movie_id)\n",
    "        else:\n",
    "            print(f\"Movie ID {movie_id} not found in the dataset.\")\n",
    "    else:\n",
    "        movie_name = user_input\n",
    "        movie_id = get_movie_id(movie_name)\n",
    "        if movie_id is not None:\n",
    "            get_recommendations_by_movie_id(movie_id)\n",
    "        else:\n",
    "            print(f\"Movie '{movie_name}' not found in the dataset.\")\n",
    "recommend_movies()\n"
   ]
  },
  {
   "cell_type": "code",
   "execution_count": 71,
   "metadata": {},
   "outputs": [
    {
     "name": "stdout",
     "output_type": "stream",
     "text": [
      "Top 10 recommendations for users who liked this movie:\n"
     ]
    }
   ],
   "source": [
    "#For user input and allow user to input movie ID or Name\n"
   ]
  },
  {
   "cell_type": "code",
   "execution_count": 68,
   "metadata": {},
   "outputs": [
    {
     "data": {
      "text/html": [
       "<div>\n",
       "<style scoped>\n",
       "    .dataframe tbody tr th:only-of-type {\n",
       "        vertical-align: middle;\n",
       "    }\n",
       "\n",
       "    .dataframe tbody tr th {\n",
       "        vertical-align: top;\n",
       "    }\n",
       "\n",
       "    .dataframe thead th {\n",
       "        text-align: right;\n",
       "    }\n",
       "</style>\n",
       "<table border=\"1\" class=\"dataframe\">\n",
       "  <thead>\n",
       "    <tr style=\"text-align: right;\">\n",
       "      <th></th>\n",
       "      <th>movieId</th>\n",
       "      <th>title</th>\n",
       "      <th>genres</th>\n",
       "    </tr>\n",
       "  </thead>\n",
       "  <tbody>\n",
       "    <tr>\n",
       "      <th>0</th>\n",
       "      <td>1</td>\n",
       "      <td>Toy Story (1995)</td>\n",
       "      <td>[Adventure, Animation, Children, Comedy, Fantasy]</td>\n",
       "    </tr>\n",
       "    <tr>\n",
       "      <th>1</th>\n",
       "      <td>2</td>\n",
       "      <td>Jumanji (1995)</td>\n",
       "      <td>[Adventure, Children, Fantasy]</td>\n",
       "    </tr>\n",
       "    <tr>\n",
       "      <th>2</th>\n",
       "      <td>3</td>\n",
       "      <td>Grumpier Old Men (1995)</td>\n",
       "      <td>[Comedy, Romance]</td>\n",
       "    </tr>\n",
       "    <tr>\n",
       "      <th>3</th>\n",
       "      <td>4</td>\n",
       "      <td>Waiting to Exhale (1995)</td>\n",
       "      <td>[Comedy, Drama, Romance]</td>\n",
       "    </tr>\n",
       "    <tr>\n",
       "      <th>4</th>\n",
       "      <td>5</td>\n",
       "      <td>Father of the Bride Part II (1995)</td>\n",
       "      <td>[Comedy]</td>\n",
       "    </tr>\n",
       "  </tbody>\n",
       "</table>\n",
       "</div>"
      ],
      "text/plain": [
       "   movieId                               title  \\\n",
       "0        1                    Toy Story (1995)   \n",
       "1        2                      Jumanji (1995)   \n",
       "2        3             Grumpier Old Men (1995)   \n",
       "3        4            Waiting to Exhale (1995)   \n",
       "4        5  Father of the Bride Part II (1995)   \n",
       "\n",
       "                                              genres  \n",
       "0  [Adventure, Animation, Children, Comedy, Fantasy]  \n",
       "1                     [Adventure, Children, Fantasy]  \n",
       "2                                  [Comedy, Romance]  \n",
       "3                           [Comedy, Drama, Romance]  \n",
       "4                                           [Comedy]  "
      ]
     },
     "execution_count": 68,
     "metadata": {},
     "output_type": "execute_result"
    }
   ],
   "source": [
    "movies.head()"
   ]
  },
  {
   "cell_type": "code",
   "execution_count": null,
   "metadata": {},
   "outputs": [
    {
     "ename": "IndentationError",
     "evalue": "unexpected indent (915764905.py, line 2)",
     "output_type": "error",
     "traceback": [
      "\u001b[1;36m  Cell \u001b[1;32mIn[64], line 2\u001b[1;36m\u001b[0m\n\u001b[1;33m    unique_predictions = []\u001b[0m\n\u001b[1;37m    ^\u001b[0m\n\u001b[1;31mIndentationError\u001b[0m\u001b[1;31m:\u001b[0m unexpected indent\n"
     ]
    }
   ],
   "source": [
    "  # Remove duplicates and exclude the input movie\n",
    "    "
   ]
  },
  {
   "cell_type": "code",
   "execution_count": 58,
   "metadata": {},
   "outputs": [
    {
     "name": "stdout",
     "output_type": "stream",
     "text": [
      "Top 10 recommendations for user 1:\n",
      "Shawshank Redemption, The (1994) (Predicted Rating: 5.00)\n",
      "Departed, The (2006) (Predicted Rating: 5.00)\n",
      "Dark Knight, The (2008) (Predicted Rating: 5.00)\n",
      "Singin' in the Rain (1952) (Predicted Rating: 5.00)\n",
      "Rear Window (1954) (Predicted Rating: 5.00)\n",
      "Casablanca (1942) (Predicted Rating: 5.00)\n",
      "Dr. Strangelove or: How I Learned to Stop Worrying and Love the Bomb (1964) (Predicted Rating: 5.00)\n",
      "Lord of the Rings: The Fellowship of the Ring, The (2001) (Predicted Rating: 5.00)\n",
      "Lord of the Rings: The Return of the King, The (2003) (Predicted Rating: 5.00)\n",
      "Godfather, The (1972) (Predicted Rating: 5.00)\n"
     ]
    }
   ],
   "source": [
    "#Predicting movie from rating\n",
    "movie_Ids = ratings['movieId'].unique()\n",
    "\n",
    "rated_movies = ratings[ratings['userId'] == user_id]['movieId'].tolist()\n",
    "\n",
    "unrated_movies = [movie_id for movie_id in movie_Ids if movie_id not in rated_movies]\n",
    "\n",
    "#predicting unrated movies\n",
    "predictions = []\n",
    "for movie_id in unrated_movies:\n",
    "    predicted_rating = svd_model.predict(user_id, movie_id).est\n",
    "    predictions.append((movie_id, predicted_rating))\n",
    "\n",
    "# Sort predictions by predicted rating (highest to lowest)\n",
    "predictions.sort(key=lambda x: x[1], reverse=True)\n",
    "\n",
    "# Get top-N recommendations\n",
    "top_n = 10\n",
    "top_recommendations = predictions[:top_n]\n",
    "\n",
    "# Display top-N recommendations with movie titles\n",
    "recommended_movies = []\n",
    "for movie_id, predicted_rating in top_recommendations:\n",
    "    movie_title = movies[movies['movieId'] == movie_id]['title'].values[0]\n",
    "    recommended_movies.append((movie_title, predicted_rating))\n",
    "\n",
    "print(f\"Top {top_n} recommendations for user {user_id}:\")\n",
    "for movie_title, rating in recommended_movies:\n",
    "    print(f\"{movie_title} (Predicted Rating: {rating:.2f})\")"
   ]
  },
  {
   "cell_type": "code",
   "execution_count": 37,
   "metadata": {},
   "outputs": [],
   "source": [
    "#Calculating the similarity between users using cosine-similarity\n",
    "user_item_matrix = user_item_matrix.fillna(0)\n",
    "user_similarity = cosine_similarity(user_item_matrix)\n",
    "user_similarity_df = pd.DataFrame(user_similarity, index=user_item_matrix.index, columns=user_item_matrix.index)"
   ]
  },
  {
   "cell_type": "code",
   "execution_count": 38,
   "metadata": {},
   "outputs": [
    {
     "name": "stdout",
     "output_type": "stream",
     "text": [
      "[(318, 2.6224141852010723), (589, 2.06192005239068), (858, 1.8369136211668076), (2762, 1.6433152470275587), (4993, 1.6050431272375927), (150, 1.5665236478286546), (32, 1.5645310446603289), (7153, 1.4839499567581391), (5952, 1.465233734026705), (588, 1.4590537258135976)]\n"
     ]
    }
   ],
   "source": [
    "def predict_ratings(user_id, similarity_df, user_item_matrix):\n",
    "    user_similarities = similarity_df[user_id]\n",
    "    user_ratings = user_item_matrix.loc[user_id]\n",
    "    predictions = {}\n",
    "    \n",
    "    for movie_id in user_item_matrix.columns:\n",
    "        if user_ratings[movie_id] == 0:  # Movie not rated by the user\n",
    "            similar_users = user_similarities[user_similarities > 0].index\n",
    "            similar_user_ratings = user_item_matrix.loc[similar_users, movie_id]\n",
    "            weighted_sum = (similar_user_ratings * user_similarities.loc[similar_users]).sum()\n",
    "            sum_of_weights = user_similarities.loc[similar_users].sum()\n",
    "            \n",
    "            if sum_of_weights > 0:\n",
    "                predicted_rating = weighted_sum / sum_of_weights\n",
    "                predictions[movie_id] = predicted_rating\n",
    "    \n",
    "    return predictions\n",
    "\n",
    "# Example usage\n",
    "user_id = 1\n",
    "predicted_ratings = predict_ratings(user_id, user_similarity_df, user_item_matrix)\n",
    "top_recommendations = sorted(predicted_ratings.items(), key=lambda x: x[1], reverse=True)[:10]\n",
    "print(top_recommendations)"
   ]
  },
  {
   "cell_type": "code",
   "execution_count": 39,
   "metadata": {},
   "outputs": [],
   "source": [
    "item_similarity = cosine_similarity(user_item_matrix.T.fillna(0))\n",
    "item_similarity_df = pd.DataFrame(item_similarity, index=user_item_matrix.columns, columns=user_item_matrix.columns)"
   ]
  },
  {
   "cell_type": "code",
   "execution_count": 40,
   "metadata": {},
   "outputs": [
    {
     "name": "stdout",
     "output_type": "stream",
     "text": [
      "[(876, 1.3561936804633377), (6145, 1.323607362643742), (476, 1.280673780436171), (2812, 1.280673780436171), (61697, 1.158909527319466), (2415, 1.09689331454809), (3143, 1.09689331454809), (2659, 1.0031095554995006), (4284, 0.9206411503765164), (1151, 0.9080884912578062)]\n"
     ]
    }
   ],
   "source": [
    "def predict_item_based(user_id, item_similarity_df, user_item_matrix):\n",
    "    user_ratings = user_item_matrix.loc[user_id]\n",
    "    predictions = {}\n",
    "    \n",
    "    for movie_id in user_item_matrix.columns:\n",
    "        if user_ratings[movie_id] == 0:  # Movie not rated by the user\n",
    "            similar_items = item_similarity_df[movie_id][item_similarity_df[movie_id] > 0].index\n",
    "            similar_item_ratings = user_ratings.loc[similar_items]\n",
    "            weighted_sum = (similar_item_ratings * item_similarity_df.loc[similar_items, movie_id]).sum()\n",
    "            sum_of_weights = item_similarity_df.loc[similar_items, movie_id].sum()\n",
    "            \n",
    "            if sum_of_weights > 0:\n",
    "                predicted_rating = weighted_sum / sum_of_weights\n",
    "                predictions[movie_id] = predicted_rating\n",
    "    \n",
    "    return predictions\n",
    "\n",
    "# Example usage\n",
    "predicted_item_based_ratings = predict_item_based(user_id, item_similarity_df, user_item_matrix)\n",
    "top_item_based_recommendations = sorted(predicted_item_based_ratings.items(), key=lambda x: x[1], reverse=True)[:10]\n",
    "print(top_item_based_recommendations)"
   ]
  },
  {
   "cell_type": "code",
   "execution_count": 41,
   "metadata": {},
   "outputs": [
    {
     "name": "stdout",
     "output_type": "stream",
     "text": [
      "MAE: 1.7308898342111139, RMSE: 1.76519345759732\n"
     ]
    }
   ],
   "source": [
    "from sklearn.metrics import mean_absolute_error, mean_squared_error\n",
    "from math import sqrt\n",
    "\n",
    "def evaluate_model(predictions, actual_ratings):\n",
    "    predicted_values = [pred for _, pred in predictions]\n",
    "    actual_values = [actual_ratings[movie_id] if movie_id in actual_ratings else 0 for movie_id, _ in predictions]\n",
    "    \n",
    "    mae = mean_absolute_error(actual_values, predicted_values)\n",
    "    rmse = sqrt(mean_squared_error(actual_values, predicted_values))  # Calculate RMSE manually\n",
    "    return mae, rmse\n",
    "\n",
    "# Example usage\n",
    "user_id = 1\n",
    "mae, rmse = evaluate_model(top_recommendations, user_item_matrix.loc[user_id])\n",
    "print(f\"MAE: {mae}, RMSE: {rmse}\")"
   ]
  },
  {
   "cell_type": "code",
   "execution_count": 42,
   "metadata": {},
   "outputs": [
    {
     "name": "stdout",
     "output_type": "stream",
     "text": [
      "Evaluating RMSE, MAE of algorithm SVD on 5 split(s).\n",
      "\n",
      "                  Fold 1  Fold 2  Fold 3  Fold 4  Fold 5  Mean    Std     \n",
      "RMSE (testset)    0.8729  0.8788  0.8820  0.8713  0.8654  0.8741  0.0058  \n",
      "MAE (testset)     0.6710  0.6756  0.6773  0.6701  0.6645  0.6717  0.0045  \n",
      "Fit time          7.28    7.67    7.78    5.36    5.22    6.66    1.13    \n",
      "Test time         2.47    1.27    1.23    1.13    0.88    1.40    0.55    \n"
     ]
    },
    {
     "data": {
      "text/plain": [
       "{'test_rmse': array([0.87291089, 0.87876809, 0.88203874, 0.87133733, 0.86539824]),\n",
       " 'test_mae': array([0.67100144, 0.67559139, 0.67733348, 0.67006553, 0.66446066]),\n",
       " 'fit_time': (7.280168771743774,\n",
       "  7.670037031173706,\n",
       "  7.783450126647949,\n",
       "  5.358667373657227,\n",
       "  5.2208874225616455),\n",
       " 'test_time': (2.4671692848205566,\n",
       "  1.2736618518829346,\n",
       "  1.2255373001098633,\n",
       "  1.1295709609985352,\n",
       "  0.8847601413726807)}"
      ]
     },
     "execution_count": 42,
     "metadata": {},
     "output_type": "execute_result"
    }
   ],
   "source": [
    "# from surprise import Dataset\n",
    "# from surprise import Reader\n",
    "# from surprise import SVD\n",
    "# from surprise.model_selection import cross_validate\n",
    "\n",
    "\n",
    "# svd = SVD()\n",
    "# cross_validate(svd, data, measures=['RMSE', 'MAE'], cv=5, verbose=True)"
   ]
  },
  {
   "cell_type": "code",
   "execution_count": null,
   "metadata": {},
   "outputs": [
    {
     "ename": "KeyboardInterrupt",
     "evalue": "",
     "output_type": "error",
     "traceback": [
      "\u001b[1;31m---------------------------------------------------------------------------\u001b[0m",
      "\u001b[1;31mKeyboardInterrupt\u001b[0m                         Traceback (most recent call last)",
      "Cell \u001b[1;32mIn[43], line 10\u001b[0m\n\u001b[0;32m      3\u001b[0m param_grid \u001b[38;5;241m=\u001b[39m {\n\u001b[0;32m      4\u001b[0m     \u001b[38;5;124m'\u001b[39m\u001b[38;5;124mn_factors\u001b[39m\u001b[38;5;124m'\u001b[39m: [\u001b[38;5;241m50\u001b[39m, \u001b[38;5;241m100\u001b[39m, \u001b[38;5;241m200\u001b[39m],\n\u001b[0;32m      5\u001b[0m     \u001b[38;5;124m'\u001b[39m\u001b[38;5;124mlr_all\u001b[39m\u001b[38;5;124m'\u001b[39m: [\u001b[38;5;241m0.002\u001b[39m, \u001b[38;5;241m0.005\u001b[39m, \u001b[38;5;241m0.01\u001b[39m],\n\u001b[0;32m      6\u001b[0m     \u001b[38;5;124m'\u001b[39m\u001b[38;5;124mreg_all\u001b[39m\u001b[38;5;124m'\u001b[39m: [\u001b[38;5;241m0.02\u001b[39m, \u001b[38;5;241m0.04\u001b[39m, \u001b[38;5;241m0.06\u001b[39m]\n\u001b[0;32m      7\u001b[0m }\n\u001b[0;32m      9\u001b[0m grid_search \u001b[38;5;241m=\u001b[39m GridSearchCV(SVD, param_grid, measures\u001b[38;5;241m=\u001b[39m[\u001b[38;5;124m'\u001b[39m\u001b[38;5;124mrmse\u001b[39m\u001b[38;5;124m'\u001b[39m, \u001b[38;5;124m'\u001b[39m\u001b[38;5;124mMAE\u001b[39m\u001b[38;5;124m'\u001b[39m], cv\u001b[38;5;241m=\u001b[39m\u001b[38;5;241m5\u001b[39m)\n\u001b[1;32m---> 10\u001b[0m \u001b[43mgrid_search\u001b[49m\u001b[38;5;241;43m.\u001b[39;49m\u001b[43mfit\u001b[49m\u001b[43m(\u001b[49m\u001b[43mdata\u001b[49m\u001b[43m)\u001b[49m\n\u001b[0;32m     12\u001b[0m \u001b[38;5;66;03m# Best RMSE score\u001b[39;00m\n\u001b[0;32m     13\u001b[0m \u001b[38;5;28mprint\u001b[39m(grid_search\u001b[38;5;241m.\u001b[39mbest_score[\u001b[38;5;124m'\u001b[39m\u001b[38;5;124mrmse\u001b[39m\u001b[38;5;124m'\u001b[39m])\n",
      "File \u001b[1;32mc:\\Users\\Joseph\\anaconda3\\envs\\myenv\\lib\\site-packages\\surprise\\model_selection\\search.py:104\u001b[0m, in \u001b[0;36mBaseSearchCV.fit\u001b[1;34m(self, data)\u001b[0m\n\u001b[0;32m     90\u001b[0m cv \u001b[38;5;241m=\u001b[39m get_cv(\u001b[38;5;28mself\u001b[39m\u001b[38;5;241m.\u001b[39mcv)\n\u001b[0;32m     92\u001b[0m delayed_list \u001b[38;5;241m=\u001b[39m (\n\u001b[0;32m     93\u001b[0m     delayed(fit_and_score)(\n\u001b[0;32m     94\u001b[0m         \u001b[38;5;28mself\u001b[39m\u001b[38;5;241m.\u001b[39malgo_class(\u001b[38;5;241m*\u001b[39m\u001b[38;5;241m*\u001b[39mparams),\n\u001b[1;32m   (...)\u001b[0m\n\u001b[0;32m    102\u001b[0m     )\n\u001b[0;32m    103\u001b[0m )\n\u001b[1;32m--> 104\u001b[0m out \u001b[38;5;241m=\u001b[39m \u001b[43mParallel\u001b[49m\u001b[43m(\u001b[49m\n\u001b[0;32m    105\u001b[0m \u001b[43m    \u001b[49m\u001b[43mn_jobs\u001b[49m\u001b[38;5;241;43m=\u001b[39;49m\u001b[38;5;28;43mself\u001b[39;49m\u001b[38;5;241;43m.\u001b[39;49m\u001b[43mn_jobs\u001b[49m\u001b[43m,\u001b[49m\n\u001b[0;32m    106\u001b[0m \u001b[43m    \u001b[49m\u001b[43mpre_dispatch\u001b[49m\u001b[38;5;241;43m=\u001b[39;49m\u001b[38;5;28;43mself\u001b[39;49m\u001b[38;5;241;43m.\u001b[39;49m\u001b[43mpre_dispatch\u001b[49m\u001b[43m,\u001b[49m\n\u001b[0;32m    107\u001b[0m \u001b[43m    \u001b[49m\u001b[43mverbose\u001b[49m\u001b[38;5;241;43m=\u001b[39;49m\u001b[38;5;28;43mself\u001b[39;49m\u001b[38;5;241;43m.\u001b[39;49m\u001b[43mjoblib_verbose\u001b[49m\u001b[43m,\u001b[49m\n\u001b[0;32m    108\u001b[0m \u001b[43m\u001b[49m\u001b[43m)\u001b[49m\u001b[43m(\u001b[49m\u001b[43mdelayed_list\u001b[49m\u001b[43m)\u001b[49m\n\u001b[0;32m    110\u001b[0m (test_measures_dicts, train_measures_dicts, fit_times, test_times) \u001b[38;5;241m=\u001b[39m \u001b[38;5;28mzip\u001b[39m(\u001b[38;5;241m*\u001b[39mout)\n\u001b[0;32m    112\u001b[0m \u001b[38;5;66;03m# test_measures_dicts is a list of dict like this:\u001b[39;00m\n\u001b[0;32m    113\u001b[0m \u001b[38;5;66;03m# [{'mae': 1, 'rmse': 2}, {'mae': 2, 'rmse': 3} ...]\u001b[39;00m\n\u001b[0;32m    114\u001b[0m \u001b[38;5;66;03m# E.g. for 5 splits, the first 5 dicts are for the first param\u001b[39;00m\n\u001b[1;32m   (...)\u001b[0m\n\u001b[0;32m    121\u001b[0m \u001b[38;5;66;03m# (n_parameters_combinations, n_splits). This way we can easily compute\u001b[39;00m\n\u001b[0;32m    122\u001b[0m \u001b[38;5;66;03m# the mean and std dev over all splits or over all param comb.\u001b[39;00m\n",
      "File \u001b[1;32mc:\\Users\\Joseph\\anaconda3\\envs\\myenv\\lib\\site-packages\\joblib\\parallel.py:1918\u001b[0m, in \u001b[0;36mParallel.__call__\u001b[1;34m(self, iterable)\u001b[0m\n\u001b[0;32m   1916\u001b[0m     output \u001b[38;5;241m=\u001b[39m \u001b[38;5;28mself\u001b[39m\u001b[38;5;241m.\u001b[39m_get_sequential_output(iterable)\n\u001b[0;32m   1917\u001b[0m     \u001b[38;5;28mnext\u001b[39m(output)\n\u001b[1;32m-> 1918\u001b[0m     \u001b[38;5;28;01mreturn\u001b[39;00m output \u001b[38;5;28;01mif\u001b[39;00m \u001b[38;5;28mself\u001b[39m\u001b[38;5;241m.\u001b[39mreturn_generator \u001b[38;5;28;01melse\u001b[39;00m \u001b[38;5;28;43mlist\u001b[39;49m\u001b[43m(\u001b[49m\u001b[43moutput\u001b[49m\u001b[43m)\u001b[49m\n\u001b[0;32m   1920\u001b[0m \u001b[38;5;66;03m# Let's create an ID that uniquely identifies the current call. If the\u001b[39;00m\n\u001b[0;32m   1921\u001b[0m \u001b[38;5;66;03m# call is interrupted early and that the same instance is immediately\u001b[39;00m\n\u001b[0;32m   1922\u001b[0m \u001b[38;5;66;03m# re-used, this id will be used to prevent workers that were\u001b[39;00m\n\u001b[0;32m   1923\u001b[0m \u001b[38;5;66;03m# concurrently finalizing a task from the previous call to run the\u001b[39;00m\n\u001b[0;32m   1924\u001b[0m \u001b[38;5;66;03m# callback.\u001b[39;00m\n\u001b[0;32m   1925\u001b[0m \u001b[38;5;28;01mwith\u001b[39;00m \u001b[38;5;28mself\u001b[39m\u001b[38;5;241m.\u001b[39m_lock:\n",
      "File \u001b[1;32mc:\\Users\\Joseph\\anaconda3\\envs\\myenv\\lib\\site-packages\\joblib\\parallel.py:1847\u001b[0m, in \u001b[0;36mParallel._get_sequential_output\u001b[1;34m(self, iterable)\u001b[0m\n\u001b[0;32m   1845\u001b[0m \u001b[38;5;28mself\u001b[39m\u001b[38;5;241m.\u001b[39mn_dispatched_batches \u001b[38;5;241m+\u001b[39m\u001b[38;5;241m=\u001b[39m \u001b[38;5;241m1\u001b[39m\n\u001b[0;32m   1846\u001b[0m \u001b[38;5;28mself\u001b[39m\u001b[38;5;241m.\u001b[39mn_dispatched_tasks \u001b[38;5;241m+\u001b[39m\u001b[38;5;241m=\u001b[39m \u001b[38;5;241m1\u001b[39m\n\u001b[1;32m-> 1847\u001b[0m res \u001b[38;5;241m=\u001b[39m func(\u001b[38;5;241m*\u001b[39margs, \u001b[38;5;241m*\u001b[39m\u001b[38;5;241m*\u001b[39mkwargs)\n\u001b[0;32m   1848\u001b[0m \u001b[38;5;28mself\u001b[39m\u001b[38;5;241m.\u001b[39mn_completed_tasks \u001b[38;5;241m+\u001b[39m\u001b[38;5;241m=\u001b[39m \u001b[38;5;241m1\u001b[39m\n\u001b[0;32m   1849\u001b[0m \u001b[38;5;28mself\u001b[39m\u001b[38;5;241m.\u001b[39mprint_progress()\n",
      "File \u001b[1;32mc:\\Users\\Joseph\\anaconda3\\envs\\myenv\\lib\\site-packages\\surprise\\model_selection\\validation.py:173\u001b[0m, in \u001b[0;36mfit_and_score\u001b[1;34m(algo, trainset, testset, measures, return_train_measures)\u001b[0m\n\u001b[0;32m    142\u001b[0m \u001b[38;5;250m\u001b[39m\u001b[38;5;124;03m\"\"\"Helper method that trains an algorithm and compute accuracy measures on\u001b[39;00m\n\u001b[0;32m    143\u001b[0m \u001b[38;5;124;03ma testset. Also report train and test times.\u001b[39;00m\n\u001b[0;32m    144\u001b[0m \n\u001b[1;32m   (...)\u001b[0m\n\u001b[0;32m    169\u001b[0m \u001b[38;5;124;03m        - The testing time in seconds.\u001b[39;00m\n\u001b[0;32m    170\u001b[0m \u001b[38;5;124;03m\"\"\"\u001b[39;00m\n\u001b[0;32m    172\u001b[0m start_fit \u001b[38;5;241m=\u001b[39m time\u001b[38;5;241m.\u001b[39mtime()\n\u001b[1;32m--> 173\u001b[0m \u001b[43malgo\u001b[49m\u001b[38;5;241;43m.\u001b[39;49m\u001b[43mfit\u001b[49m\u001b[43m(\u001b[49m\u001b[43mtrainset\u001b[49m\u001b[43m)\u001b[49m\n\u001b[0;32m    174\u001b[0m fit_time \u001b[38;5;241m=\u001b[39m time\u001b[38;5;241m.\u001b[39mtime() \u001b[38;5;241m-\u001b[39m start_fit\n\u001b[0;32m    175\u001b[0m start_test \u001b[38;5;241m=\u001b[39m time\u001b[38;5;241m.\u001b[39mtime()\n",
      "File \u001b[1;32mc:\\Users\\Joseph\\anaconda3\\envs\\myenv\\lib\\site-packages\\surprise\\prediction_algorithms\\matrix_factorization.pyx:155\u001b[0m, in \u001b[0;36msurprise.prediction_algorithms.matrix_factorization.SVD.fit\u001b[1;34m()\u001b[0m\n",
      "File \u001b[1;32mc:\\Users\\Joseph\\anaconda3\\envs\\myenv\\lib\\site-packages\\surprise\\prediction_algorithms\\matrix_factorization.pyx:228\u001b[0m, in \u001b[0;36msurprise.prediction_algorithms.matrix_factorization.SVD.sgd\u001b[1;34m()\u001b[0m\n",
      "File \u001b[1;32mc:\\Users\\Joseph\\anaconda3\\envs\\myenv\\lib\\site-packages\\surprise\\trainset.py:194\u001b[0m, in \u001b[0;36mTrainset.all_ratings\u001b[1;34m(self)\u001b[0m\n\u001b[0;32m    192\u001b[0m \u001b[38;5;28;01mfor\u001b[39;00m u, u_ratings \u001b[38;5;129;01min\u001b[39;00m \u001b[38;5;28mself\u001b[39m\u001b[38;5;241m.\u001b[39mur\u001b[38;5;241m.\u001b[39mitems():\n\u001b[0;32m    193\u001b[0m     \u001b[38;5;28;01mfor\u001b[39;00m i, r \u001b[38;5;129;01min\u001b[39;00m u_ratings:\n\u001b[1;32m--> 194\u001b[0m         \u001b[38;5;28;01myield\u001b[39;00m u, i, r\n",
      "\u001b[1;31mKeyboardInterrupt\u001b[0m: "
     ]
    }
   ],
   "source": [
    "\n",
    "\n"
   ]
  },
  {
   "cell_type": "code",
   "execution_count": 20,
   "metadata": {},
   "outputs": [
    {
     "ename": "NameError",
     "evalue": "name 'accuracy' is not defined",
     "output_type": "error",
     "traceback": [
      "\u001b[1;31m---------------------------------------------------------------------------\u001b[0m",
      "\u001b[1;31mNameError\u001b[0m                                 Traceback (most recent call last)",
      "Cell \u001b[1;32mIn[20], line 13\u001b[0m\n\u001b[0;32m     11\u001b[0m \u001b[38;5;66;03m# Evaluate on the test set\u001b[39;00m\n\u001b[0;32m     12\u001b[0m predictions \u001b[38;5;241m=\u001b[39m best_svd\u001b[38;5;241m.\u001b[39mtest(testset)\n\u001b[1;32m---> 13\u001b[0m rmse \u001b[38;5;241m=\u001b[39m \u001b[43maccuracy\u001b[49m\u001b[38;5;241m.\u001b[39mrmse(predictions)\n\u001b[0;32m     14\u001b[0m mae \u001b[38;5;241m=\u001b[39m accuracy\u001b[38;5;241m.\u001b[39mmae(predictions)\n",
      "\u001b[1;31mNameError\u001b[0m: name 'accuracy' is not defined"
     ]
    }
   ],
   "source": [
    "from surprise.model_selection import train_test_split\n",
    "\n",
    "trainset, testset = train_test_split(data, test_size=0.2)\n",
    "\n",
    "# Train the model with the best parameters\n",
    "best_svd = SVD(n_factors=grid_search.best_params['rmse']['n_factors'],\n",
    "               lr_all=grid_search.best_params['rmse']['lr_all'],\n",
    "               reg_all=grid_search.best_params['rmse']['reg_all'])\n",
    "best_svd.fit(trainset)\n",
    "\n",
    "# Evaluate on the test set\n",
    "predictions = best_svd.test(testset)\n",
    "rmse = accuracy.rmse(predictions)\n",
    "mae = accuracy.mae(predictions)"
   ]
  }
 ],
 "metadata": {
  "kernelspec": {
   "display_name": "myenv",
   "language": "python",
   "name": "python3"
  },
  "language_info": {
   "codemirror_mode": {
    "name": "ipython",
    "version": 3
   },
   "file_extension": ".py",
   "mimetype": "text/x-python",
   "name": "python",
   "nbconvert_exporter": "python",
   "pygments_lexer": "ipython3",
   "version": "3.9.15"
  }
 },
 "nbformat": 4,
 "nbformat_minor": 2
}
